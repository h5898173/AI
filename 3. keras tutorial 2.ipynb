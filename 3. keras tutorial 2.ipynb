{
  "nbformat": 4,
  "nbformat_minor": 0,
  "metadata": {
    "colab": {
      "name": "Untitled0.ipynb",
      "provenance": []
    },
    "kernelspec": {
      "name": "python3",
      "display_name": "Python 3"
    }
  },
  "cells": [
    {
      "cell_type": "code",
      "metadata": {
        "id": "GLiA5kQkyGgx",
        "colab_type": "code",
        "colab": {
          "base_uri": "https://localhost:8080/",
          "height": 731
        },
        "outputId": "8336120e-25b8-4873-abcc-71d6c176f22e"
      },
      "source": [
        "import keras\n",
        "from keras.models import Sequential\n",
        "from keras.layers import Dense, Dropout, Activation\n",
        "from keras.optimizers import SGD\n",
        "\n",
        "# Generate dummy data\n",
        "import numpy as np\n",
        "x_train = np.random.random((1000, 10))\n",
        "y_train = keras.utils.to_categorical(np.random.randint(10, size=(1000, 1)), num_classes=10)\n",
        "x_test = np.random.random((100, 10))\n",
        "y_test = keras.utils.to_categorical(np.random.randint(10, size=(100, 1)), num_classes=10)\n",
        "\n",
        "model = Sequential()\n",
        "model.add(Dense(64, activation='relu', input_dim=10))\n",
        "model.add(Dense(64, activation='relu'))\n",
        "model.add(Dense(10, activation='softmax'))\n",
        "sgd = SGD(lr=0.01, decay=1e-6, momentum=0.9, nesterov=True)\n",
        "model.compile(loss='categorical_crossentropy', optimizer=sgd, metrics=['accuracy'])\n",
        "\n",
        "model.fit(x_train, y_train, epochs=20, batch_size=128)\n",
        "score = model.evaluate(x_test, y_test, batch_size=128)\n",
        "print(score)"
      ],
      "execution_count": 5,
      "outputs": [
        {
          "output_type": "stream",
          "text": [
            "Epoch 1/20\n",
            "1000/1000 [==============================] - 0s 58us/step - loss: 2.3068 - accuracy: 0.1030\n",
            "Epoch 2/20\n",
            "1000/1000 [==============================] - 0s 13us/step - loss: 2.3013 - accuracy: 0.1110\n",
            "Epoch 3/20\n",
            "1000/1000 [==============================] - 0s 13us/step - loss: 2.2956 - accuracy: 0.1190\n",
            "Epoch 4/20\n",
            "1000/1000 [==============================] - 0s 14us/step - loss: 2.2923 - accuracy: 0.1300\n",
            "Epoch 5/20\n",
            "1000/1000 [==============================] - 0s 14us/step - loss: 2.2897 - accuracy: 0.1260\n",
            "Epoch 6/20\n",
            "1000/1000 [==============================] - 0s 16us/step - loss: 2.2876 - accuracy: 0.1220\n",
            "Epoch 7/20\n",
            "1000/1000 [==============================] - 0s 13us/step - loss: 2.2860 - accuracy: 0.1210\n",
            "Epoch 8/20\n",
            "1000/1000 [==============================] - 0s 14us/step - loss: 2.2848 - accuracy: 0.1310\n",
            "Epoch 9/20\n",
            "1000/1000 [==============================] - 0s 15us/step - loss: 2.2833 - accuracy: 0.1270\n",
            "Epoch 10/20\n",
            "1000/1000 [==============================] - 0s 14us/step - loss: 2.2823 - accuracy: 0.1270\n",
            "Epoch 11/20\n",
            "1000/1000 [==============================] - 0s 13us/step - loss: 2.2813 - accuracy: 0.1290\n",
            "Epoch 12/20\n",
            "1000/1000 [==============================] - 0s 13us/step - loss: 2.2801 - accuracy: 0.1320\n",
            "Epoch 13/20\n",
            "1000/1000 [==============================] - 0s 14us/step - loss: 2.2790 - accuracy: 0.1380\n",
            "Epoch 14/20\n",
            "1000/1000 [==============================] - 0s 15us/step - loss: 2.2778 - accuracy: 0.1380\n",
            "Epoch 15/20\n",
            "1000/1000 [==============================] - 0s 19us/step - loss: 2.2770 - accuracy: 0.1370\n",
            "Epoch 16/20\n",
            "1000/1000 [==============================] - 0s 14us/step - loss: 2.2755 - accuracy: 0.1420\n",
            "Epoch 17/20\n",
            "1000/1000 [==============================] - 0s 14us/step - loss: 2.2745 - accuracy: 0.1380\n",
            "Epoch 18/20\n",
            "1000/1000 [==============================] - 0s 19us/step - loss: 2.2736 - accuracy: 0.1410\n",
            "Epoch 19/20\n",
            "1000/1000 [==============================] - 0s 14us/step - loss: 2.2726 - accuracy: 0.1510\n",
            "Epoch 20/20\n",
            "1000/1000 [==============================] - 0s 14us/step - loss: 2.2715 - accuracy: 0.1470\n",
            "100/100 [==============================] - 0s 166us/step\n",
            "[2.3291513919830322, 0.07000000029802322]\n"
          ],
          "name": "stdout"
        }
      ]
    },
    {
      "cell_type": "code",
      "metadata": {
        "id": "Qk9z3lhoz30n",
        "colab_type": "code",
        "colab": {}
      },
      "source": [
        ""
      ],
      "execution_count": 0,
      "outputs": []
    },
    {
      "cell_type": "code",
      "metadata": {
        "id": "mZtey5zQzc4K",
        "colab_type": "code",
        "colab": {}
      },
      "source": [
        ""
      ],
      "execution_count": 0,
      "outputs": []
    }
  ]
}