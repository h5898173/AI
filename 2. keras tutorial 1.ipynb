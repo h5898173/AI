{
  "nbformat": 4,
  "nbformat_minor": 0,
  "metadata": {
    "colab": {
      "name": "Untitled0.ipynb",
      "provenance": []
    },
    "kernelspec": {
      "name": "python3",
      "display_name": "Python 3"
    }
  },
  "cells": [
    {
      "cell_type": "code",
      "metadata": {
        "id": "GLiA5kQkyGgx",
        "colab_type": "code",
        "colab": {
          "base_uri": "https://localhost:8080/",
          "height": 476
        },
        "outputId": "833d92e1-5a07-4685-fd52-327ea6f31a5c"
      },
      "source": [
        "\n",
        "import keras\n",
        "from keras.models import Sequential\n",
        "from keras.layers import Dense\n",
        "\n",
        "import numpy as np\n",
        "data = np.random.random((1000, 10)) #隨機產生1000筆資料，每筆資料1包含十個float數字\n",
        "labels = np.random.randint(2, size=(1000, 1)) #隨機產生1000筆資料，每筆資料上限為2(意思就是0 或 1)\n",
        "print(np.shape(data))\n",
        "print(data[0])\n",
        "print(np.shape(labels))\n",
        "print(labels[0])\n",
        "\n",
        "model = Sequential()\n",
        "model.add(Dense(32, activation='relu', input_dim=10))\n",
        "model.add(Dense(1, activation='sigmoid'))\n",
        "model.compile(optimizer='rmsprop', loss='binary_crossentropy', metrics=['accuracy'])\n",
        "\n",
        "model.fit(data, labels, epochs=10, batch_size=32)\n",
        "\n",
        "score=model.evaluate(data, labels)\n",
        "print(score[1])"
      ],
      "execution_count": 4,
      "outputs": [
        {
          "output_type": "stream",
          "text": [
            "(1000, 10)\n",
            "[0.99428946 0.00439349 0.40419443 0.83361417 0.51417916 0.5751868\n",
            " 0.39210531 0.10160547 0.58606955 0.68769089]\n",
            "(1000, 1)\n",
            "[0]\n",
            "Epoch 1/10\n",
            "1000/1000 [==============================] - 0s 119us/step - loss: 0.6968 - accuracy: 0.5010\n",
            "Epoch 2/10\n",
            "1000/1000 [==============================] - 0s 36us/step - loss: 0.6941 - accuracy: 0.5050\n",
            "Epoch 3/10\n",
            "1000/1000 [==============================] - 0s 33us/step - loss: 0.6926 - accuracy: 0.5120\n",
            "Epoch 4/10\n",
            "1000/1000 [==============================] - 0s 33us/step - loss: 0.6913 - accuracy: 0.5060\n",
            "Epoch 5/10\n",
            "1000/1000 [==============================] - 0s 34us/step - loss: 0.6902 - accuracy: 0.5330\n",
            "Epoch 6/10\n",
            "1000/1000 [==============================] - 0s 34us/step - loss: 0.6896 - accuracy: 0.5350\n",
            "Epoch 7/10\n",
            "1000/1000 [==============================] - 0s 34us/step - loss: 0.6888 - accuracy: 0.5390\n",
            "Epoch 8/10\n",
            "1000/1000 [==============================] - 0s 34us/step - loss: 0.6880 - accuracy: 0.5460\n",
            "Epoch 9/10\n",
            "1000/1000 [==============================] - 0s 33us/step - loss: 0.6876 - accuracy: 0.5440\n",
            "Epoch 10/10\n",
            "1000/1000 [==============================] - 0s 34us/step - loss: 0.6868 - accuracy: 0.5540\n",
            "1000/1000 [==============================] - 0s 30us/step\n",
            "0.5460000038146973\n"
          ],
          "name": "stdout"
        }
      ]
    },
    {
      "cell_type": "code",
      "metadata": {
        "id": "mZtey5zQzc4K",
        "colab_type": "code",
        "colab": {}
      },
      "source": [
        ""
      ],
      "execution_count": 0,
      "outputs": []
    }
  ]
}