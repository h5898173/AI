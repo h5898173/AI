{
  "nbformat": 4,
  "nbformat_minor": 0,
  "metadata": {
    "colab": {
      "name": "Untitled0.ipynb",
      "provenance": []
    },
    "kernelspec": {
      "name": "python3",
      "display_name": "Python 3"
    }
  },
  "cells": [
    {
      "cell_type": "code",
      "metadata": {
        "id": "GLiA5kQkyGgx",
        "colab_type": "code",
        "colab": {
          "base_uri": "https://localhost:8080/",
          "height": 785
        },
        "outputId": "d112114a-240b-4845-dca5-af7eb5ead555"
      },
      "source": [
        "import keras\n",
        "from keras.datasets import mnist\n",
        "from keras.models import Sequential\n",
        "from keras.layers import Dense, Dropout, LeakyReLU, Conv2D\n",
        "from keras.optimizers import RMSprop\n",
        "from keras import backend as K\n",
        "from matplotlib.pyplot import imshow\n",
        "import numpy as np\n",
        "\n",
        "\n",
        "(x_train, y_train), (x_test, y_test) = mnist.load_data()\n",
        "\n",
        "x_train = x_train.reshape(60000, 784)\n",
        "x_test = x_test.reshape(10000, 784)\n",
        "x_train = x_train.astype('float32')\n",
        "x_test = x_test.astype('float32')\n",
        "x_train /= 255\n",
        "x_test /= 255\n",
        "print(x_train.shape[0], 'train samples')\n",
        "print(x_test.shape[0], 'test samples')\n",
        "num_classes=10\n",
        "y_train = keras.utils.to_categorical(y_train, num_classes)\n",
        "y_test = keras.utils.to_categorical(y_test, num_classes)\n",
        "\n",
        "model = Sequential()\n",
        "model.add(Dense(20, activation=LeakyReLU(), input_shape=(784,)))\n",
        "model.add(Dense(20, activation=LeakyReLU()))\n",
        "model.add(Dense(10, activation='softmax'))\n",
        "model.summary()\n",
        "\n",
        "model.compile(loss='categorical_crossentropy',\n",
        "              optimizer=RMSprop(),\n",
        "              metrics=['accuracy'])\n",
        "\n",
        "history = model.fit(x_train, y_train,\n",
        "                    batch_size=128,\n",
        "                    epochs=10,\n",
        "                    verbose=1,\n",
        "                    validation_data=(x_test, y_test))\n",
        "\n",
        "scores = model.evaluate(x_test, y_test)\n",
        "print(scores[1])"
      ],
      "execution_count": 1,
      "outputs": [
        {
          "output_type": "stream",
          "text": [
            "Using TensorFlow backend.\n"
          ],
          "name": "stderr"
        },
        {
          "output_type": "stream",
          "text": [
            "Downloading data from https://s3.amazonaws.com/img-datasets/mnist.npz\n",
            "11493376/11490434 [==============================] - 2s 0us/step\n",
            "60000 train samples\n",
            "10000 test samples\n"
          ],
          "name": "stdout"
        },
        {
          "output_type": "stream",
          "text": [
            "/usr/local/lib/python3.6/dist-packages/keras/activations.py:235: UserWarning: Do not pass a layer instance (such as LeakyReLU) as the activation argument of another layer. Instead, advanced activation layers should be used just like any other layer in a model.\n",
            "  identifier=identifier.__class__.__name__))\n"
          ],
          "name": "stderr"
        },
        {
          "output_type": "stream",
          "text": [
            "Model: \"sequential_1\"\n",
            "_________________________________________________________________\n",
            "Layer (type)                 Output Shape              Param #   \n",
            "=================================================================\n",
            "dense_1 (Dense)              (None, 20)                15700     \n",
            "_________________________________________________________________\n",
            "dense_2 (Dense)              (None, 20)                420       \n",
            "_________________________________________________________________\n",
            "dense_3 (Dense)              (None, 10)                210       \n",
            "=================================================================\n",
            "Total params: 16,330\n",
            "Trainable params: 16,330\n",
            "Non-trainable params: 0\n",
            "_________________________________________________________________\n",
            "Train on 60000 samples, validate on 10000 samples\n",
            "Epoch 1/10\n",
            "60000/60000 [==============================] - 1s 21us/step - loss: 0.5244 - accuracy: 0.8575 - val_loss: 0.2874 - val_accuracy: 0.9173\n",
            "Epoch 2/10\n",
            "60000/60000 [==============================] - 1s 16us/step - loss: 0.2693 - accuracy: 0.9229 - val_loss: 0.2338 - val_accuracy: 0.9323\n",
            "Epoch 3/10\n",
            "60000/60000 [==============================] - 1s 17us/step - loss: 0.2312 - accuracy: 0.9336 - val_loss: 0.2176 - val_accuracy: 0.9349\n",
            "Epoch 4/10\n",
            "60000/60000 [==============================] - 1s 17us/step - loss: 0.2080 - accuracy: 0.9395 - val_loss: 0.1967 - val_accuracy: 0.9427\n",
            "Epoch 5/10\n",
            "60000/60000 [==============================] - 1s 18us/step - loss: 0.1909 - accuracy: 0.9450 - val_loss: 0.1851 - val_accuracy: 0.9453\n",
            "Epoch 6/10\n",
            "60000/60000 [==============================] - 1s 17us/step - loss: 0.1781 - accuracy: 0.9480 - val_loss: 0.1801 - val_accuracy: 0.9471\n",
            "Epoch 7/10\n",
            "60000/60000 [==============================] - 1s 17us/step - loss: 0.1668 - accuracy: 0.9509 - val_loss: 0.1697 - val_accuracy: 0.9504\n",
            "Epoch 8/10\n",
            "60000/60000 [==============================] - 1s 18us/step - loss: 0.1582 - accuracy: 0.9535 - val_loss: 0.1711 - val_accuracy: 0.9506\n",
            "Epoch 9/10\n",
            "60000/60000 [==============================] - 1s 17us/step - loss: 0.1496 - accuracy: 0.9551 - val_loss: 0.1610 - val_accuracy: 0.9529\n",
            "Epoch 10/10\n",
            "60000/60000 [==============================] - 1s 17us/step - loss: 0.1431 - accuracy: 0.9567 - val_loss: 0.1565 - val_accuracy: 0.9543\n",
            "10000/10000 [==============================] - 0s 19us/step\n",
            "0.9542999863624573\n"
          ],
          "name": "stdout"
        }
      ]
    }
  ]
}