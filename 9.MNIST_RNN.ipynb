{
  "nbformat": 4,
  "nbformat_minor": 0,
  "metadata": {
    "colab": {
      "name": "Untitled4.ipynb",
      "provenance": []
    },
    "kernelspec": {
      "name": "python3",
      "display_name": "Python 3"
    }
  },
  "cells": [
    {
      "cell_type": "code",
      "metadata": {
        "id": "bMEnXCC8yHdt",
        "colab_type": "code",
        "colab": {
          "base_uri": "https://localhost:8080/",
          "height": 986
        },
        "outputId": "3035c711-ab41-4c87-a153-d30f9dd8d769"
      },
      "source": [
        "from keras.datasets import mnist\n",
        "from keras.layers import Dense, LSTM\n",
        "from keras.utils import to_categorical\n",
        "from keras.models import Sequential\n",
        "\n",
        "#parameters for LSTM\n",
        "nb_lstm_outputs = 30  \n",
        "nb_time_steps = 28  \n",
        "nb_input_vector = 28 \n",
        "\n",
        "#data preprocessing: tofloat32, normalization, one_hot encoding\n",
        "(x_train, y_train), (x_test, y_test) = mnist.load_data()\n",
        "x_train = x_train.astype('float32')\n",
        "x_test = x_test.astype('float32')\n",
        "x_train /= 255\n",
        "x_test /= 255\n",
        " \n",
        "y_train = to_categorical(y_train, num_classes=10)\n",
        "y_test = to_categorical(y_test, num_classes=10)\n",
        "\n",
        "#build model\n",
        "model = Sequential()\n",
        "model.add(LSTM(units=nb_lstm_outputs, input_shape=(nb_time_steps, nb_input_vector)))\n",
        "model.add(Dense(10, activation='softmax'))\n",
        "\n",
        "#compile:loss, optimizer, metrics\n",
        "model.compile(loss='categorical_crossentropy', optimizer='adam', metrics=['accuracy'])\n",
        "#train: epcoch, batch_size\n",
        "model.fit(x_train, y_train, epochs=20, batch_size=128, verbose=1)\n",
        "\n",
        "model.summary()\n",
        "\n",
        "score = model.evaluate(x_test, y_test,batch_size=128, verbose=1)\n",
        "print(score)"
      ],
      "execution_count": 2,
      "outputs": [
        {
          "output_type": "stream",
          "text": [
            "Using TensorFlow backend.\n"
          ],
          "name": "stderr"
        },
        {
          "output_type": "stream",
          "text": [
            "Downloading data from https://s3.amazonaws.com/img-datasets/mnist.npz\n",
            "11493376/11490434 [==============================] - 0s 0us/step\n",
            "Epoch 1/20\n",
            "60000/60000 [==============================] - 10s 167us/step - loss: 0.9991 - accuracy: 0.6879\n",
            "Epoch 2/20\n",
            "60000/60000 [==============================] - 9s 156us/step - loss: 0.3305 - accuracy: 0.9051\n",
            "Epoch 3/20\n",
            "60000/60000 [==============================] - 9s 156us/step - loss: 0.2289 - accuracy: 0.9336\n",
            "Epoch 4/20\n",
            "60000/60000 [==============================] - 9s 154us/step - loss: 0.1845 - accuracy: 0.9462\n",
            "Epoch 5/20\n",
            "60000/60000 [==============================] - 9s 154us/step - loss: 0.1588 - accuracy: 0.9535\n",
            "Epoch 6/20\n",
            "60000/60000 [==============================] - 9s 155us/step - loss: 0.1375 - accuracy: 0.9596\n",
            "Epoch 7/20\n",
            "60000/60000 [==============================] - 9s 156us/step - loss: 0.1242 - accuracy: 0.9644\n",
            "Epoch 8/20\n",
            "60000/60000 [==============================] - 9s 157us/step - loss: 0.1138 - accuracy: 0.9666\n",
            "Epoch 9/20\n",
            "60000/60000 [==============================] - 10s 159us/step - loss: 0.1074 - accuracy: 0.9686\n",
            "Epoch 10/20\n",
            "60000/60000 [==============================] - 9s 158us/step - loss: 0.0970 - accuracy: 0.9717\n",
            "Epoch 11/20\n",
            "60000/60000 [==============================] - 10s 160us/step - loss: 0.0892 - accuracy: 0.9744\n",
            "Epoch 12/20\n",
            "60000/60000 [==============================] - 10s 160us/step - loss: 0.0864 - accuracy: 0.9748\n",
            "Epoch 13/20\n",
            "60000/60000 [==============================] - 9s 157us/step - loss: 0.0810 - accuracy: 0.9759\n",
            "Epoch 14/20\n",
            "60000/60000 [==============================] - 10s 158us/step - loss: 0.0753 - accuracy: 0.9783\n",
            "Epoch 15/20\n",
            "60000/60000 [==============================] - 10s 158us/step - loss: 0.0717 - accuracy: 0.9787\n",
            "Epoch 16/20\n",
            "60000/60000 [==============================] - 9s 158us/step - loss: 0.0687 - accuracy: 0.9801\n",
            "Epoch 17/20\n",
            "60000/60000 [==============================] - 9s 158us/step - loss: 0.0643 - accuracy: 0.9818\n",
            "Epoch 18/20\n",
            "60000/60000 [==============================] - 10s 159us/step - loss: 0.0614 - accuracy: 0.9822\n",
            "Epoch 19/20\n",
            "60000/60000 [==============================] - 9s 158us/step - loss: 0.0588 - accuracy: 0.9827\n",
            "Epoch 20/20\n",
            "60000/60000 [==============================] - 10s 160us/step - loss: 0.0573 - accuracy: 0.9827\n",
            "Model: \"sequential_1\"\n",
            "_________________________________________________________________\n",
            "Layer (type)                 Output Shape              Param #   \n",
            "=================================================================\n",
            "lstm_1 (LSTM)                (None, 30)                7080      \n",
            "_________________________________________________________________\n",
            "dense_1 (Dense)              (None, 10)                310       \n",
            "=================================================================\n",
            "Total params: 7,390\n",
            "Trainable params: 7,390\n",
            "Non-trainable params: 0\n",
            "_________________________________________________________________\n",
            "10000/10000 [==============================] - 1s 51us/step\n",
            "[0.08096472433581949, 0.9750999808311462]\n"
          ],
          "name": "stdout"
        }
      ]
    }
  ]
}